{
  "nbformat": 4,
  "nbformat_minor": 0,
  "metadata": {
    "colab": {
      "provenance": []
    },
    "kernelspec": {
      "name": "python3",
      "display_name": "Python 3"
    },
    "language_info": {
      "name": "python"
    }
  },
  "cells": [
    {
      "cell_type": "code",
      "execution_count": null,
      "metadata": {
        "id": "VcFBgbgdlqhV"
      },
      "outputs": [],
      "source": [
        "name = ['a','b']\n",
        "age = [25,26]"
      ]
    },
    {
      "cell_type": "code",
      "source": [
        "### a@25, b@26"
      ],
      "metadata": {
        "id": "on3wcp3il3Hz"
      },
      "execution_count": null,
      "outputs": []
    },
    {
      "cell_type": "code",
      "source": [
        "for i in range(len(name)):\n",
        "    print(name[i]+ '@' + str(age[i]))"
      ],
      "metadata": {
        "colab": {
          "base_uri": "https://localhost:8080/"
        },
        "id": "STbdnKlvl8kx",
        "outputId": "b9f504cd-e654-4b83-bbeb-1c57550f9788"
      },
      "execution_count": null,
      "outputs": [
        {
          "output_type": "stream",
          "name": "stdout",
          "text": [
            "a@25\n",
            "b@26\n"
          ]
        }
      ]
    },
    {
      "cell_type": "code",
      "source": [
        "### Decoraters"
      ],
      "metadata": {
        "id": "Dwvr1zF2mG5S"
      },
      "execution_count": null,
      "outputs": []
    },
    {
      "cell_type": "code",
      "source": [
        "### Empl Name, Salary, Dept\n",
        "### 5 rows"
      ],
      "metadata": {
        "id": "_vb1nKuLmTzQ"
      },
      "execution_count": null,
      "outputs": []
    },
    {
      "cell_type": "code",
      "source": [
        "select * from table_name rank()overpartition(by empl_name order by salary desc) as rank\n",
        "order by rank"
      ],
      "metadata": {
        "id": "ov1qZie-naiZ"
      },
      "execution_count": null,
      "outputs": []
    },
    {
      "cell_type": "markdown",
      "source": [
        "### Updating keys and values"
      ],
      "metadata": {
        "id": "ARznBcaGVGLZ"
      }
    },
    {
      "cell_type": "code",
      "source": [
        "from collections import Counter"
      ],
      "metadata": {
        "id": "X6yn0jW560xU"
      },
      "execution_count": null,
      "outputs": []
    },
    {
      "cell_type": "code",
      "source": [
        "items = Counter('2 3 4 5 6 8 7 6 5 18'.split(' '))"
      ],
      "metadata": {
        "id": "ZyJ-5UjQ6rLL"
      },
      "execution_count": null,
      "outputs": []
    },
    {
      "cell_type": "code",
      "source": [
        "items"
      ],
      "metadata": {
        "colab": {
          "base_uri": "https://localhost:8080/"
        },
        "id": "63j4Rv75_B8E",
        "outputId": "6a4609bd-1fc0-4062-e984-d369324fff17"
      },
      "execution_count": null,
      "outputs": [
        {
          "output_type": "execute_result",
          "data": {
            "text/plain": [
              "Counter({'2': 1, '3': 1, '4': 1, '5': 2, '6': 2, '8': 1, '7': 1, '18': 1})"
            ]
          },
          "metadata": {},
          "execution_count": 49
        }
      ]
    },
    {
      "cell_type": "code",
      "source": [
        "i = [['6','55'],['6','45'],['6','65'],['4','40'],['18','60'],['10','65']]"
      ],
      "metadata": {
        "id": "J2L5Ploo6r08"
      },
      "execution_count": null,
      "outputs": []
    },
    {
      "cell_type": "code",
      "source": [
        "purchase = []\n",
        "for j in i:\n",
        "    if items[j[0]] > 0:\n",
        "        purchase.append(int(j[1]))\n",
        "        items[j[0]] = items[j[0]] - 1\n",
        "    else: pass"
      ],
      "metadata": {
        "id": "uqh02HIQ9nus"
      },
      "execution_count": null,
      "outputs": []
    },
    {
      "cell_type": "code",
      "source": [
        "items"
      ],
      "metadata": {
        "colab": {
          "base_uri": "https://localhost:8080/"
        },
        "id": "qx2J39FC-fkc",
        "outputId": "7ceaab73-ef99-42f9-aa27-5780cb5a3358"
      },
      "execution_count": null,
      "outputs": [
        {
          "output_type": "execute_result",
          "data": {
            "text/plain": [
              "Counter({'2': 1, '3': 1, '4': 0, '5': 2, '6': 0, '8': 1, '7': 1, '18': 0})"
            ]
          },
          "metadata": {},
          "execution_count": 52
        }
      ]
    },
    {
      "cell_type": "code",
      "source": [
        "sum(purchase)"
      ],
      "metadata": {
        "colab": {
          "base_uri": "https://localhost:8080/"
        },
        "id": "M3JLGDjgAMzq",
        "outputId": "3aece707-22ae-4281-9f4d-75c6132397ac"
      },
      "execution_count": null,
      "outputs": [
        {
          "output_type": "execute_result",
          "data": {
            "text/plain": [
              "200"
            ]
          },
          "metadata": {},
          "execution_count": 53
        }
      ]
    },
    {
      "cell_type": "markdown",
      "source": [
        "### Regex searching all overlaps"
      ],
      "metadata": {
        "id": "VQvZSTSxVKhx"
      }
    },
    {
      "cell_type": "code",
      "source": [
        "import re"
      ],
      "metadata": {
        "id": "K-Z9GGdWQyJi"
      },
      "execution_count": null,
      "outputs": []
    },
    {
      "cell_type": "code",
      "source": [
        "str1 = 'aaadaa'\n",
        "str2 = 'aa'"
      ],
      "metadata": {
        "id": "NSNThDWQD5qS"
      },
      "execution_count": null,
      "outputs": []
    },
    {
      "cell_type": "code",
      "source": [
        "if str2 in str1:\n",
        "    for i in re.finditer(f'(?=({str2}))',str1):\n",
        "        print((i.start(1), i.end(1)-1))\n",
        "else:\n",
        "    print((-1,-1))"
      ],
      "metadata": {
        "colab": {
          "base_uri": "https://localhost:8080/"
        },
        "id": "-8ABJl8bQrBx",
        "outputId": "c639cc61-a04c-4cf3-a37f-5ed14c9f2ef3"
      },
      "execution_count": null,
      "outputs": [
        {
          "output_type": "stream",
          "name": "stdout",
          "text": [
            "(0, 1)\n",
            "(1, 2)\n",
            "(4, 5)\n"
          ]
        }
      ]
    },
    {
      "cell_type": "markdown",
      "source": [
        "### Decorator"
      ],
      "metadata": {
        "id": "hsXPcOn6Why6"
      }
    },
    {
      "cell_type": "code",
      "source": [
        "import operator"
      ],
      "metadata": {
        "id": "71hLNFtCT-KJ"
      },
      "execution_count": null,
      "outputs": []
    },
    {
      "cell_type": "code",
      "source": [
        "lists = ['Mike Thomson 20 M', 'Andria Bustle 32 M', 'Robert Bustle 30 F']"
      ],
      "metadata": {
        "id": "F7Io7RORRDWK"
      },
      "execution_count": null,
      "outputs": []
    },
    {
      "cell_type": "code",
      "source": [
        "lists1 = []\n",
        "for i in lists:\n",
        "    lists1.append(i.split())"
      ],
      "metadata": {
        "id": "C_G3fQBsW0Do"
      },
      "execution_count": null,
      "outputs": []
    },
    {
      "cell_type": "code",
      "source": [
        "lists1"
      ],
      "metadata": {
        "colab": {
          "base_uri": "https://localhost:8080/"
        },
        "id": "jbpaSDmXYsgR",
        "outputId": "f754ba24-e4fe-4584-98ea-d2c70d028236"
      },
      "execution_count": null,
      "outputs": [
        {
          "output_type": "execute_result",
          "data": {
            "text/plain": [
              "[['Mike', 'Thomson', '20', 'M'],\n",
              " ['Andria', 'Bustle', '32', 'M'],\n",
              " ['Robert', 'Bustle', '30', 'F']]"
            ]
          },
          "metadata": {},
          "execution_count": 6
        }
      ]
    },
    {
      "cell_type": "code",
      "source": [
        "lists1.sort(key=operator.itemgetter(2))"
      ],
      "metadata": {
        "id": "8y69H3YGUFyw"
      },
      "execution_count": null,
      "outputs": []
    },
    {
      "cell_type": "code",
      "source": [
        "[' '.join(i) for i in lists1]"
      ],
      "metadata": {
        "colab": {
          "base_uri": "https://localhost:8080/"
        },
        "id": "JDN_eLhFUGuw",
        "outputId": "d6150aa6-c5bf-4f9b-ba09-c187c5492b06"
      },
      "execution_count": null,
      "outputs": [
        {
          "output_type": "execute_result",
          "data": {
            "text/plain": [
              "['Mike Thomson 20 M', 'Robert Bustle 30 F', 'Andria Bustle 32 M']"
            ]
          },
          "metadata": {},
          "execution_count": 19
        }
      ]
    },
    {
      "cell_type": "code",
      "source": [
        "def person_lister(f):\n",
        "    def inner(people):\n",
        "        # complete the function\n",
        "        for i in range(len(people)):\n",
        "            people[i][2] = int(people[i][2])\n",
        "        people.sort(key=operator.itemgetter(2))\n",
        "        return [f(x) for x in people]\n",
        "    return inner"
      ],
      "metadata": {
        "id": "vGBH_hrjbHiA"
      },
      "execution_count": null,
      "outputs": []
    },
    {
      "cell_type": "code",
      "source": [
        "@person_lister\n",
        "def name_format(person):\n",
        "    return (\"Mr. \" if person[3] == \"M\" else \"Ms. \") + person[0] + \" \" + person[1]\n",
        "\n",
        "if __name__ == '__main__':\n",
        "    people = [input().split() for i in range(int(input()))]\n",
        "    print(*name_format(people), sep='\\n')"
      ],
      "metadata": {
        "colab": {
          "base_uri": "https://localhost:8080/"
        },
        "id": "jRjaIeXLU8iS",
        "outputId": "67237a5f-abf8-4b76-c3ac-24a0ad1dfd0f"
      },
      "execution_count": null,
      "outputs": [
        {
          "output_type": "stream",
          "name": "stdout",
          "text": [
            "2\n",
            "Robert Bustle 30 F\n",
            "Mike Thomson 20 M\n",
            "Mr. Mike Thomson\n",
            "Ms. Robert Bustle\n"
          ]
        }
      ]
    },
    {
      "cell_type": "markdown",
      "source": [
        "### DISTINCT WORDS"
      ],
      "metadata": {
        "id": "qpNUHkbua-so"
      }
    },
    {
      "cell_type": "code",
      "source": [
        "from collections import OrderedDict, Counter"
      ],
      "metadata": {
        "id": "FkiUy1Ldd6uo"
      },
      "execution_count": null,
      "outputs": []
    },
    {
      "cell_type": "code",
      "source": [
        "lists = ['bcdef','abcdefg','bcde','bcdef']"
      ],
      "metadata": {
        "id": "dv07sG6RZDeB"
      },
      "execution_count": null,
      "outputs": []
    },
    {
      "cell_type": "code",
      "source": [
        "lists1 = Counter(lists)"
      ],
      "metadata": {
        "id": "kadL46preIs_"
      },
      "execution_count": null,
      "outputs": []
    },
    {
      "cell_type": "code",
      "source": [
        "print(len(lists1.keys()))\n",
        "print(' '.join(map(str, lists1.values())))"
      ],
      "metadata": {
        "colab": {
          "base_uri": "https://localhost:8080/"
        },
        "id": "XzWQFDA9bP_7",
        "outputId": "d661037e-5651-4774-f07f-3ef377591edb"
      },
      "execution_count": null,
      "outputs": [
        {
          "output_type": "stream",
          "name": "stdout",
          "text": [
            "3\n",
            "2 1 1\n"
          ]
        }
      ]
    },
    {
      "cell_type": "markdown",
      "source": [
        "### IF ELSE"
      ],
      "metadata": {
        "id": "oKGMyIv5_o3t"
      }
    },
    {
      "cell_type": "code",
      "source": [
        "n=18"
      ],
      "metadata": {
        "id": "Q9lOBaFVinMa"
      },
      "execution_count": null,
      "outputs": []
    },
    {
      "cell_type": "code",
      "source": [
        "if (n%2==0) and (n>=6) and (n<=20):\n",
        "    print('Weird')\n",
        "elif n%2==0:\n",
        "    print('Not Weird')\n",
        "else:\n",
        "    print('Weird')"
      ],
      "metadata": {
        "colab": {
          "base_uri": "https://localhost:8080/"
        },
        "id": "l3Qq91wq_ran",
        "outputId": "35efbed2-ac85-4bad-d3e4-0c39f6f014d3"
      },
      "execution_count": null,
      "outputs": [
        {
          "output_type": "stream",
          "name": "stdout",
          "text": [
            "Weird\n"
          ]
        }
      ]
    },
    {
      "cell_type": "markdown",
      "source": [
        "### Numpy mean, var, std"
      ],
      "metadata": {
        "id": "YfNWRhp7CeMI"
      }
    },
    {
      "cell_type": "code",
      "source": [
        "import numpy as np"
      ],
      "metadata": {
        "id": "Cl7D9qhJDqDA"
      },
      "execution_count": null,
      "outputs": []
    },
    {
      "cell_type": "code",
      "source": [
        "n = [[2,2],[1,2],[3,4]]"
      ],
      "metadata": {
        "id": "Nitu22DX_sD_"
      },
      "execution_count": null,
      "outputs": []
    },
    {
      "cell_type": "code",
      "source": [
        "np.mean(n,axis=1)"
      ],
      "metadata": {
        "colab": {
          "base_uri": "https://localhost:8080/"
        },
        "id": "gfi-YfSSCnoV",
        "outputId": "ce254ff6-a879-410a-de15-0fe61ec7864a"
      },
      "execution_count": null,
      "outputs": [
        {
          "output_type": "execute_result",
          "data": {
            "text/plain": [
              "array([2. , 1.5, 3.5])"
            ]
          },
          "metadata": {},
          "execution_count": 7
        }
      ]
    },
    {
      "cell_type": "markdown",
      "source": [
        "### STRING SPLIT AND REMOVE DUPLICATES"
      ],
      "metadata": {
        "id": "AwSUiCOm-ABi"
      }
    },
    {
      "cell_type": "code",
      "source": [
        "string = 'AABCAAADA'"
      ],
      "metadata": {
        "id": "xazd0xFzDu9H"
      },
      "execution_count": null,
      "outputs": []
    },
    {
      "cell_type": "code",
      "source": [
        "string[0:3]"
      ],
      "metadata": {
        "colab": {
          "base_uri": "https://localhost:8080/",
          "height": 36
        },
        "id": "QVlZOYXp-Eix",
        "outputId": "d170a4ea-c8b6-4dc0-9c99-c54f20ab339d"
      },
      "execution_count": null,
      "outputs": [
        {
          "output_type": "execute_result",
          "data": {
            "text/plain": [
              "'AAB'"
            ],
            "application/vnd.google.colaboratory.intrinsic+json": {
              "type": "string"
            }
          },
          "metadata": {},
          "execution_count": 5
        }
      ]
    },
    {
      "cell_type": "code",
      "source": [
        "strings = []\n",
        "start = 0\n",
        "for i in range(len(string)):\n",
        "    try:\n",
        "        if len(string[start:start+3])>0:\n",
        "            strings.append(string[start:start+3])\n",
        "        else: pass\n",
        "        start += 3\n",
        "    except Exception as e:\n",
        "        pass"
      ],
      "metadata": {
        "id": "tN0UVNC8-Rn3"
      },
      "execution_count": null,
      "outputs": []
    },
    {
      "cell_type": "code",
      "source": [
        "strings"
      ],
      "metadata": {
        "colab": {
          "base_uri": "https://localhost:8080/"
        },
        "id": "BTFN7ZGR_Vfx",
        "outputId": "95eebef8-c46e-488c-b938-df503713e4c8"
      },
      "execution_count": null,
      "outputs": [
        {
          "output_type": "execute_result",
          "data": {
            "text/plain": [
              "['AAB', 'CAA', 'ADA']"
            ]
          },
          "metadata": {},
          "execution_count": 9
        }
      ]
    },
    {
      "cell_type": "code",
      "source": [
        "def remove_dups(data):\n",
        "    rd = ''\n",
        "    for i in range(len(data)):\n",
        "        if data[i] not in rd:\n",
        "            rd = rd + data[i]\n",
        "        else: pass\n",
        "    return rd"
      ],
      "metadata": {
        "id": "yVBQev8RAuXL"
      },
      "execution_count": null,
      "outputs": []
    },
    {
      "cell_type": "code",
      "source": [
        "remove_dups(strings[1])"
      ],
      "metadata": {
        "colab": {
          "base_uri": "https://localhost:8080/",
          "height": 36
        },
        "id": "m02aFXaQ_WVA",
        "outputId": "984d30cc-6fec-48aa-e863-17e64e8fa4c6"
      },
      "execution_count": null,
      "outputs": [
        {
          "output_type": "execute_result",
          "data": {
            "text/plain": [
              "'CA'"
            ],
            "application/vnd.google.colaboratory.intrinsic+json": {
              "type": "string"
            }
          },
          "metadata": {},
          "execution_count": 17
        }
      ]
    },
    {
      "cell_type": "code",
      "source": [
        "for i in strings:\n",
        "    print(remove_dups(i))"
      ],
      "metadata": {
        "colab": {
          "base_uri": "https://localhost:8080/"
        },
        "id": "Hj8vdwVA_xLY",
        "outputId": "159a2170-d921-46df-c449-8c5a629f2d40"
      },
      "execution_count": null,
      "outputs": [
        {
          "output_type": "stream",
          "name": "stdout",
          "text": [
            "AB\n",
            "CA\n",
            "AD\n"
          ]
        }
      ]
    },
    {
      "cell_type": "markdown",
      "source": [
        "### Calculate string"
      ],
      "metadata": {
        "id": "zc2m69bRGa0h"
      }
    },
    {
      "cell_type": "code",
      "source": [
        "from collections import Counter, OrderedDict"
      ],
      "metadata": {
        "id": "8rpv9BMvEhPp"
      },
      "execution_count": null,
      "outputs": []
    },
    {
      "cell_type": "code",
      "source": [
        "string = 'szrmtbttyyaymadobvwniwmozojggfbtswdiocewnqsjrkimhovimghixqryqgzhgbakpncwupcadwvglmupbexijimonxdowqsjinqzytkooacwkchatuwpsoxwvgrrejkukcvyzbkfnzfvrthmtfvmbppkdebswfpspxnelhqnjlgntqzsprmhcnuomrvuyolvzlni'"
      ],
      "metadata": {
        "id": "ym6V41BqBNTw"
      },
      "execution_count": null,
      "outputs": []
    },
    {
      "cell_type": "code",
      "source": [
        "strings = []\n",
        "\n",
        "for i in range(len(string)):\n",
        "    strings.append(string[i])"
      ],
      "metadata": {
        "id": "EUhig0NTEXJx"
      },
      "execution_count": null,
      "outputs": []
    },
    {
      "cell_type": "code",
      "source": [
        "strings"
      ],
      "metadata": {
        "colab": {
          "base_uri": "https://localhost:8080/"
        },
        "id": "hTZfA70NEfbp",
        "outputId": "c17097d3-f3d8-4d0c-ba31-89e6ccbdf3ef"
      },
      "execution_count": null,
      "outputs": [
        {
          "output_type": "execute_result",
          "data": {
            "text/plain": [
              "['s',\n",
              " 'z',\n",
              " 'r',\n",
              " 'm',\n",
              " 't',\n",
              " 'b',\n",
              " 't',\n",
              " 't',\n",
              " 'y',\n",
              " 'y',\n",
              " 'a',\n",
              " 'y',\n",
              " 'm',\n",
              " 'a',\n",
              " 'd',\n",
              " 'o',\n",
              " 'b',\n",
              " 'v',\n",
              " 'w',\n",
              " 'n',\n",
              " 'i',\n",
              " 'w',\n",
              " 'm',\n",
              " 'o',\n",
              " 'z',\n",
              " 'o',\n",
              " 'j',\n",
              " 'g',\n",
              " 'g',\n",
              " 'f',\n",
              " 'b',\n",
              " 't',\n",
              " 's',\n",
              " 'w',\n",
              " 'd',\n",
              " 'i',\n",
              " 'o',\n",
              " 'c',\n",
              " 'e',\n",
              " 'w',\n",
              " 'n',\n",
              " 'q',\n",
              " 's',\n",
              " 'j',\n",
              " 'r',\n",
              " 'k',\n",
              " 'i',\n",
              " 'm',\n",
              " 'h',\n",
              " 'o',\n",
              " 'v',\n",
              " 'i',\n",
              " 'm',\n",
              " 'g',\n",
              " 'h',\n",
              " 'i',\n",
              " 'x',\n",
              " 'q',\n",
              " 'r',\n",
              " 'y',\n",
              " 'q',\n",
              " 'g',\n",
              " 'z',\n",
              " 'h',\n",
              " 'g',\n",
              " 'b',\n",
              " 'a',\n",
              " 'k',\n",
              " 'p',\n",
              " 'n',\n",
              " 'c',\n",
              " 'w',\n",
              " 'u',\n",
              " 'p',\n",
              " 'c',\n",
              " 'a',\n",
              " 'd',\n",
              " 'w',\n",
              " 'v',\n",
              " 'g',\n",
              " 'l',\n",
              " 'm',\n",
              " 'u',\n",
              " 'p',\n",
              " 'b',\n",
              " 'e',\n",
              " 'x',\n",
              " 'i',\n",
              " 'j',\n",
              " 'i',\n",
              " 'm',\n",
              " 'o',\n",
              " 'n',\n",
              " 'x',\n",
              " 'd',\n",
              " 'o',\n",
              " 'w',\n",
              " 'q',\n",
              " 's',\n",
              " 'j',\n",
              " 'i',\n",
              " 'n',\n",
              " 'q',\n",
              " 'z',\n",
              " 'y',\n",
              " 't',\n",
              " 'k',\n",
              " 'o',\n",
              " 'o',\n",
              " 'a',\n",
              " 'c',\n",
              " 'w',\n",
              " 'k',\n",
              " 'c',\n",
              " 'h',\n",
              " 'a',\n",
              " 't',\n",
              " 'u',\n",
              " 'w',\n",
              " 'p',\n",
              " 's',\n",
              " 'o',\n",
              " 'x',\n",
              " 'w',\n",
              " 'v',\n",
              " 'g',\n",
              " 'r',\n",
              " 'r',\n",
              " 'e',\n",
              " 'j',\n",
              " 'k',\n",
              " 'u',\n",
              " 'k',\n",
              " 'c',\n",
              " 'v',\n",
              " 'y',\n",
              " 'z',\n",
              " 'b',\n",
              " 'k',\n",
              " 'f',\n",
              " 'n',\n",
              " 'z',\n",
              " 'f',\n",
              " 'v',\n",
              " 'r',\n",
              " 't',\n",
              " 'h',\n",
              " 'm',\n",
              " 't',\n",
              " 'f',\n",
              " 'v',\n",
              " 'm',\n",
              " 'b',\n",
              " 'p',\n",
              " 'p',\n",
              " 'k',\n",
              " 'd',\n",
              " 'e',\n",
              " 'b',\n",
              " 's',\n",
              " 'w',\n",
              " 'f',\n",
              " 'p',\n",
              " 's',\n",
              " 'p',\n",
              " 'x',\n",
              " 'n',\n",
              " 'e',\n",
              " 'l',\n",
              " 'h',\n",
              " 'q',\n",
              " 'n',\n",
              " 'j',\n",
              " 'l',\n",
              " 'g',\n",
              " 'n',\n",
              " 't',\n",
              " 'q',\n",
              " 'z',\n",
              " 's',\n",
              " 'p',\n",
              " 'r',\n",
              " 'm',\n",
              " 'h',\n",
              " 'c',\n",
              " 'n',\n",
              " 'u',\n",
              " 'o',\n",
              " 'm',\n",
              " 'r',\n",
              " 'v',\n",
              " 'u',\n",
              " 'y',\n",
              " 'o',\n",
              " 'l',\n",
              " 'v',\n",
              " 'z',\n",
              " 'l',\n",
              " 'n',\n",
              " 'i']"
            ]
          },
          "metadata": {},
          "execution_count": 111
        }
      ]
    },
    {
      "cell_type": "code",
      "source": [
        "x = Counter(strings)"
      ],
      "metadata": {
        "id": "P4kY9sGGEgJo"
      },
      "execution_count": null,
      "outputs": []
    },
    {
      "cell_type": "code",
      "source": [
        "x1 = sorted(x.most_common(), key=lambda x: (-x[1], x[0]))"
      ],
      "metadata": {
        "id": "kIxjKRtjLUFz"
      },
      "execution_count": null,
      "outputs": []
    },
    {
      "cell_type": "code",
      "source": [
        "for i in x1[:3]:\n",
        "    print(i[0] + ' ' + str(i[1]))"
      ],
      "metadata": {
        "colab": {
          "base_uri": "https://localhost:8080/"
        },
        "id": "lrnBDDqsFJEQ",
        "outputId": "858d1292-cab6-4cf9-e91c-62bbff62a356"
      },
      "execution_count": null,
      "outputs": [
        {
          "output_type": "stream",
          "name": "stdout",
          "text": [
            "o 12\n",
            "m 11\n",
            "n 11\n"
          ]
        }
      ]
    },
    {
      "cell_type": "markdown",
      "source": [
        "### Regex substitution"
      ],
      "metadata": {
        "id": "vVM735JDNA1E"
      }
    },
    {
      "cell_type": "code",
      "source": [
        "string = '''a = 1;\n",
        "b = input();\n",
        "\n",
        "if a + b > 0 && a - b < 0:\n",
        "    start()\n",
        "elif a*b > 10 || a/b < 1:\n",
        "    stop()\n",
        "print set(list(a)) | set(list(b))\n",
        "#Note do not change &&& or ||| or & or |\n",
        "#Only change those '&&' which have space on both sides.\n",
        "#Only change those '|| which have space on both sides.\n",
        "\n",
        "x&& &&& && && x || | ||\\|| x'''"
      ],
      "metadata": {
        "id": "QbrzPVPAF7Tw"
      },
      "execution_count": null,
      "outputs": []
    },
    {
      "cell_type": "code",
      "source": [
        "import re"
      ],
      "metadata": {
        "id": "94s-mUhlNE43"
      },
      "execution_count": null,
      "outputs": []
    },
    {
      "cell_type": "code",
      "source": [
        "print(re.sub(f'(?<= )\\|\\|(?= )','or', re.sub(f'(?<= )&&(?= )','and',string)))"
      ],
      "metadata": {
        "colab": {
          "base_uri": "https://localhost:8080/"
        },
        "id": "qAP9jvtfNGCH",
        "outputId": "8c183c8d-f63d-480e-81a0-db579e1bffee"
      },
      "execution_count": null,
      "outputs": [
        {
          "output_type": "stream",
          "name": "stdout",
          "text": [
            "a = 1;\n",
            "b = input();\n",
            "\n",
            "if a + b > 0 and a - b < 0:\n",
            "    start()\n",
            "elif a*b > 10 or a/b < 1:\n",
            "    stop()\n",
            "print set(list(a)) | set(list(b)) \n",
            "#Note do not change &&& or ||| or & or |\n",
            "#Only change those '&&' which have space on both sides.\n",
            "#Only change those '|| which have space on both sides.\n",
            "\n",
            "x&& &&& and and x or | ||\\|| x\n"
          ]
        }
      ]
    },
    {
      "cell_type": "markdown",
      "source": [
        "### MAX VALUE"
      ],
      "metadata": {
        "id": "vXk38vjRRFTE"
      }
    },
    {
      "cell_type": "code",
      "source": [
        "lists = ['2 5 4', '3 7 8 9','5 5 7 8 9 10']"
      ],
      "metadata": {
        "id": "d6TipyuiNMaH"
      },
      "execution_count": null,
      "outputs": []
    },
    {
      "cell_type": "code",
      "source": [
        "max(list(map(int,lists[0].split())))"
      ],
      "metadata": {
        "colab": {
          "base_uri": "https://localhost:8080/"
        },
        "id": "biSnl4FzRPxP",
        "outputId": "db76ecc4-4ab1-45f1-eca7-2bc2d63e1d65"
      },
      "execution_count": null,
      "outputs": [
        {
          "output_type": "execute_result",
          "data": {
            "text/plain": [
              "5"
            ]
          },
          "metadata": {},
          "execution_count": 162
        }
      ]
    },
    {
      "cell_type": "code",
      "source": [
        "inputs = ['3','1','2','4']"
      ],
      "metadata": {
        "id": "oW0saOqoRS_v"
      },
      "execution_count": null,
      "outputs": []
    },
    {
      "cell_type": "code",
      "source": [
        "inputs1 = sorted(inputs)"
      ],
      "metadata": {
        "id": "x5hwhYZkeV8n"
      },
      "execution_count": null,
      "outputs": []
    },
    {
      "cell_type": "code",
      "source": [
        "elem1 = []\n",
        "for i in inputs:\n",
        "    elem = []\n",
        "    for j in inputs1:\n",
        "        if j > i:\n",
        "            elem.append(j)\n",
        "    print(elem)\n",
        "    try:\n",
        "      elem1.append(min(elem))\n",
        "    except Exception as e:\n",
        "      elem1.append('')"
      ],
      "metadata": {
        "colab": {
          "base_uri": "https://localhost:8080/"
        },
        "id": "qOYwmNzSpH9P",
        "outputId": "2f21c47a-9925-48a8-bb69-00c61b407310"
      },
      "execution_count": null,
      "outputs": [
        {
          "output_type": "stream",
          "name": "stdout",
          "text": [
            "['4']\n",
            "['2', '3', '4']\n",
            "['3', '4']\n",
            "[]\n"
          ]
        }
      ]
    },
    {
      "cell_type": "code",
      "source": [
        "elem1"
      ],
      "metadata": {
        "colab": {
          "base_uri": "https://localhost:8080/"
        },
        "id": "tmSl-EfwptzG",
        "outputId": "6b1c59b8-2f25-4a6d-d760-abe3cdfed7b4"
      },
      "execution_count": null,
      "outputs": [
        {
          "output_type": "execute_result",
          "data": {
            "text/plain": [
              "['4', '2', '3', '']"
            ]
          },
          "metadata": {},
          "execution_count": 303
        }
      ]
    },
    {
      "cell_type": "markdown",
      "source": [
        "### Bank add and substract values"
      ],
      "metadata": {
        "id": "oBVezMWoy7e6"
      }
    },
    {
      "cell_type": "code",
      "source": [
        "lists = [['acc1','10'],['acc2','20'],['acc1','30']]"
      ],
      "metadata": {
        "id": "1bgijZPGqXbG"
      },
      "execution_count": null,
      "outputs": []
    },
    {
      "cell_type": "code",
      "source": [
        "lists"
      ],
      "metadata": {
        "colab": {
          "base_uri": "https://localhost:8080/"
        },
        "id": "T3ZsbcOdzJPo",
        "outputId": "73497fcf-636f-4e68-de58-bf808ad5a1d2"
      },
      "execution_count": null,
      "outputs": [
        {
          "output_type": "execute_result",
          "data": {
            "text/plain": [
              "[['acc1', '10'], ['acc2', '20'], ['acc1', '30']]"
            ]
          },
          "metadata": {},
          "execution_count": 92
        }
      ]
    },
    {
      "cell_type": "code",
      "source": [
        "lists1 = []\n",
        "for i in lists:\n",
        "    if i[0] not in lists1:\n",
        "        lists1.append(i[0])\n",
        "    else: pass"
      ],
      "metadata": {
        "id": "geheszZgzKpA"
      },
      "execution_count": null,
      "outputs": []
    },
    {
      "cell_type": "code",
      "source": [
        "lists1"
      ],
      "metadata": {
        "colab": {
          "base_uri": "https://localhost:8080/"
        },
        "id": "9gbfET7nzheY",
        "outputId": "7652202e-fc85-4379-9450-60e798680915"
      },
      "execution_count": null,
      "outputs": [
        {
          "output_type": "execute_result",
          "data": {
            "text/plain": [
              "['acc1', 'acc3']"
            ]
          },
          "metadata": {},
          "execution_count": 87
        }
      ]
    },
    {
      "cell_type": "code",
      "source": [
        "values = []\n",
        "total_values = []"
      ],
      "metadata": {
        "id": "RW6TRD-r0AWG"
      },
      "execution_count": null,
      "outputs": []
    },
    {
      "cell_type": "code",
      "source": [
        "val = 0\n",
        "for i,j in lists:\n",
        "    if i in lists1:\n",
        "        val = val + int(j)\n",
        "        values.append(str(val))\n",
        "    else:\n",
        "        values.append('')\n",
        "total_values.append(val)"
      ],
      "metadata": {
        "id": "5EuVmFWt_rxj"
      },
      "execution_count": null,
      "outputs": []
    },
    {
      "cell_type": "code",
      "source": [
        "values, total_values"
      ],
      "metadata": {
        "colab": {
          "base_uri": "https://localhost:8080/"
        },
        "id": "Mf0k5VPi1G-u",
        "outputId": "59b2b7a7-c8e5-493a-fa96-de342ef1d4d4"
      },
      "execution_count": null,
      "outputs": [
        {
          "output_type": "execute_result",
          "data": {
            "text/plain": [
              "(['10', '', '40'], [40])"
            ]
          },
          "metadata": {},
          "execution_count": 125
        }
      ]
    },
    {
      "cell_type": "code",
      "source": [
        "total_values1 = list(zip(lists1,total_values))"
      ],
      "metadata": {
        "id": "HsnegarD1H63"
      },
      "execution_count": null,
      "outputs": []
    },
    {
      "cell_type": "code",
      "source": [
        "total_values1"
      ],
      "metadata": {
        "colab": {
          "base_uri": "https://localhost:8080/"
        },
        "id": "bcN46vdr3knI",
        "outputId": "07162c30-0292-4a43-9499-49eff12d1f80"
      },
      "execution_count": null,
      "outputs": [
        {
          "output_type": "execute_result",
          "data": {
            "text/plain": [
              "[('acc1', 40)]"
            ]
          },
          "metadata": {},
          "execution_count": 127
        }
      ]
    },
    {
      "cell_type": "code",
      "source": [
        "lists2 = [['acc1','50'],['acc1','20'],['acc2','30']]"
      ],
      "metadata": {
        "id": "Gf4zjdSp23t2"
      },
      "execution_count": null,
      "outputs": []
    },
    {
      "cell_type": "code",
      "source": [
        "values11 = []"
      ],
      "metadata": {
        "id": "hqiiwe7T3VSU"
      },
      "execution_count": null,
      "outputs": []
    },
    {
      "cell_type": "code",
      "source": [
        "val = 0\n",
        "for i, j in lists2:\n",
        "    if i in lists1:\n",
        "        val = val - int(j)\n",
        "        values11.append(str(val))\n",
        "    else:\n",
        "        values11.append('')"
      ],
      "metadata": {
        "id": "aav41Yvt3Eiu"
      },
      "execution_count": null,
      "outputs": []
    },
    {
      "cell_type": "code",
      "source": [
        "values11"
      ],
      "metadata": {
        "colab": {
          "base_uri": "https://localhost:8080/"
        },
        "id": "JWlsBIrw3FgH",
        "outputId": "eec5dc60-5466-4fca-a400-af182a217a32"
      },
      "execution_count": null,
      "outputs": [
        {
          "output_type": "execute_result",
          "data": {
            "text/plain": [
              "['-50', '-70', '']"
            ]
          },
          "metadata": {},
          "execution_count": 140
        }
      ]
    },
    {
      "cell_type": "markdown",
      "source": [
        "### PRIME NUMBER"
      ],
      "metadata": {
        "id": "IPM4fGV1hpj4"
      }
    },
    {
      "cell_type": "code",
      "source": [
        "numbers = []\n",
        "\n",
        "for i in range(0,200):\n",
        "    numbers.append(i+1)"
      ],
      "metadata": {
        "id": "sMx6yK6m7QHG"
      },
      "execution_count": null,
      "outputs": []
    },
    {
      "cell_type": "code",
      "source": [
        "prime_numbers = []"
      ],
      "metadata": {
        "id": "7i6zlbL5lJ42"
      },
      "execution_count": null,
      "outputs": []
    },
    {
      "cell_type": "code",
      "source": [
        "def pm(num):\n",
        "    for i in range(2, num):\n",
        "        if (num % i) == 0:\n",
        "            break\n",
        "    else:\n",
        "        return num"
      ],
      "metadata": {
        "id": "pLDwIAlch9BH"
      },
      "execution_count": null,
      "outputs": []
    },
    {
      "cell_type": "code",
      "source": [
        "for i in numbers:\n",
        "    if i <= 1: pass\n",
        "    else: prime_numbers.append(pm(i))"
      ],
      "metadata": {
        "id": "0pLkDllrkL1H"
      },
      "execution_count": null,
      "outputs": []
    },
    {
      "cell_type": "code",
      "source": [
        "print([i for i in prime_numbers if i is not None])"
      ],
      "metadata": {
        "colab": {
          "base_uri": "https://localhost:8080/"
        },
        "id": "IeoX_U3RmPFe",
        "outputId": "665aea82-8346-4c53-d990-224c910a5f74"
      },
      "execution_count": null,
      "outputs": [
        {
          "output_type": "stream",
          "name": "stdout",
          "text": [
            "[2, 3, 5, 7, 11, 13, 17, 19, 23, 29, 31, 37, 41, 43, 47, 53, 59, 61, 67, 71, 73, 79, 83, 89, 97, 101, 103, 107, 109, 113, 127, 131, 137, 139, 149, 151, 157, 163, 167, 173, 179, 181, 191, 193, 197, 199]\n"
          ]
        }
      ]
    },
    {
      "cell_type": "markdown",
      "source": [
        "### Torch gradient"
      ],
      "metadata": {
        "id": "KXHfbWTDkYfV"
      }
    },
    {
      "cell_type": "code",
      "source": [
        "import torch"
      ],
      "metadata": {
        "id": "kkAqA5UBsseW"
      },
      "execution_count": null,
      "outputs": []
    },
    {
      "cell_type": "code",
      "source": [
        "x = torch.tensor(2.0, requires_grad=True)"
      ],
      "metadata": {
        "id": "8E4bAlrlkger"
      },
      "execution_count": null,
      "outputs": []
    },
    {
      "cell_type": "code",
      "source": [
        "x"
      ],
      "metadata": {
        "colab": {
          "base_uri": "https://localhost:8080/"
        },
        "id": "SVS5DiHaknVb",
        "outputId": "11f9ceec-c4cf-440c-b99b-7a2bb51c99d0"
      },
      "execution_count": null,
      "outputs": [
        {
          "output_type": "execute_result",
          "data": {
            "text/plain": [
              "tensor(2., requires_grad=True)"
            ]
          },
          "metadata": {},
          "execution_count": 28
        }
      ]
    },
    {
      "cell_type": "code",
      "source": [
        "y = x**3"
      ],
      "metadata": {
        "id": "AL4aVhX2kvVw"
      },
      "execution_count": null,
      "outputs": []
    },
    {
      "cell_type": "code",
      "source": [
        "y"
      ],
      "metadata": {
        "colab": {
          "base_uri": "https://localhost:8080/"
        },
        "id": "BQoM1IFJk8gT",
        "outputId": "2c9b9117-7e86-4e2e-9f0e-8efae6bcf201"
      },
      "execution_count": null,
      "outputs": [
        {
          "output_type": "execute_result",
          "data": {
            "text/plain": [
              "tensor(8., grad_fn=<PowBackward0>)"
            ]
          },
          "metadata": {},
          "execution_count": 30
        }
      ]
    },
    {
      "cell_type": "code",
      "source": [
        "y.backward()"
      ],
      "metadata": {
        "id": "Ag6I_B4Fkxda"
      },
      "execution_count": null,
      "outputs": []
    },
    {
      "cell_type": "code",
      "source": [
        "x.grad"
      ],
      "metadata": {
        "colab": {
          "base_uri": "https://localhost:8080/"
        },
        "id": "MuI_q26hky-0",
        "outputId": "bc3e0f04-3288-4973-cd89-202e0cc5cd32"
      },
      "execution_count": null,
      "outputs": [
        {
          "output_type": "execute_result",
          "data": {
            "text/plain": [
              "tensor(12.)"
            ]
          },
          "metadata": {},
          "execution_count": 32
        }
      ]
    },
    {
      "cell_type": "markdown",
      "source": [
        "### NUMBERLAND"
      ],
      "metadata": {
        "id": "QLI5O3s1Cmef"
      }
    },
    {
      "cell_type": "code",
      "source": [
        "def find_largest_interesting_sequence_length(n, numbers):\n",
        "    numbers = sorted(numbers)  # Sort the numbers\n",
        "    max_length = 1\n",
        "    current_length = 1\n",
        "\n",
        "    for i in range(1, n):\n",
        "        if numbers[i] == numbers[i-1] + 1:\n",
        "            current_length += 1\n",
        "            max_length = max(max_length, current_length)\n",
        "        else:\n",
        "            current_length = 1\n",
        "\n",
        "    return max_length\n",
        "\n",
        "# Reading input\n",
        "N = int(input())\n",
        "numbers = list(map(int, input().split()))\n",
        "\n",
        "# Finding the length of the largest interesting sequence\n",
        "result = find_largest_interesting_sequence_length(N, numbers)\n",
        "\n",
        "# Printing the result\n",
        "print(result)"
      ],
      "metadata": {
        "id": "Yf9pkFXDo4Li",
        "colab": {
          "base_uri": "https://localhost:8080/"
        },
        "outputId": "7d2fe331-6c70-4e61-a893-1b84cab58ee2"
      },
      "execution_count": null,
      "outputs": [
        {
          "output_type": "stream",
          "name": "stdout",
          "text": [
            "11\n",
            "1 2 3 4 5 9 10 11 12 13 14\n",
            "6\n"
          ]
        }
      ]
    },
    {
      "cell_type": "markdown",
      "source": [
        "### Element count dictionary"
      ],
      "metadata": {
        "id": "GRTzYjMS_-kt"
      }
    },
    {
      "cell_type": "code",
      "source": [
        "elem = 'Mississipi'"
      ],
      "metadata": {
        "id": "1bFmQb-aA5Mk"
      },
      "execution_count": null,
      "outputs": []
    },
    {
      "cell_type": "code",
      "source": [
        "elements = {}"
      ],
      "metadata": {
        "id": "qOhnk9kyAOvM"
      },
      "execution_count": null,
      "outputs": []
    },
    {
      "cell_type": "code",
      "source": [
        "for i in elem:\n",
        "    if i in elements:\n",
        "        elements[i] += 1\n",
        "    else:\n",
        "        elements[i] = 1"
      ],
      "metadata": {
        "id": "seaxcUBiAEUs"
      },
      "execution_count": null,
      "outputs": []
    },
    {
      "cell_type": "code",
      "source": [
        "elements"
      ],
      "metadata": {
        "colab": {
          "base_uri": "https://localhost:8080/"
        },
        "id": "jca-0NsmAPvl",
        "outputId": "9b2dbe93-128b-4776-bfab-2722b286866c"
      },
      "execution_count": null,
      "outputs": [
        {
          "output_type": "execute_result",
          "data": {
            "text/plain": [
              "{'M': 1, 'i': 4, 's': 4, 'p': 1}"
            ]
          },
          "metadata": {},
          "execution_count": 4
        }
      ]
    },
    {
      "cell_type": "code",
      "source": [
        "sorted_elem = sorted(elements.items(), key=lambda x:x[1], reverse=True)"
      ],
      "metadata": {
        "id": "QYhEwhEPP0cJ"
      },
      "execution_count": null,
      "outputs": []
    },
    {
      "cell_type": "code",
      "source": [
        "[i for i in sorted_elem if i[1]==max(elements.values())]"
      ],
      "metadata": {
        "colab": {
          "base_uri": "https://localhost:8080/"
        },
        "id": "eAAAQ4j2OdwR",
        "outputId": "e97118ed-a112-4ec8-ec05-be24f404bfe4"
      },
      "execution_count": null,
      "outputs": [
        {
          "output_type": "execute_result",
          "data": {
            "text/plain": [
              "[('i', 4), ('s', 4)]"
            ]
          },
          "metadata": {},
          "execution_count": 7
        }
      ]
    },
    {
      "cell_type": "code",
      "source": [
        "i = [2,3,4]"
      ],
      "metadata": {
        "id": "5ozDE8klA-8M"
      },
      "execution_count": null,
      "outputs": []
    },
    {
      "cell_type": "code",
      "source": [
        "int(''.join([str(j) for j in i])[::-1])"
      ],
      "metadata": {
        "colab": {
          "base_uri": "https://localhost:8080/"
        },
        "id": "0HgBRpSXYnCU",
        "outputId": "d9fbc9e7-c689-414b-c806-fdf588cb322a"
      },
      "execution_count": null,
      "outputs": [
        {
          "output_type": "execute_result",
          "data": {
            "text/plain": [
              "432"
            ]
          },
          "metadata": {},
          "execution_count": 11
        }
      ]
    },
    {
      "cell_type": "markdown",
      "source": [
        "### All subsets"
      ],
      "metadata": {
        "id": "P8XhwbXdPQrm"
      }
    },
    {
      "cell_type": "code",
      "source": [
        "lists = [1,2,3,4]"
      ],
      "metadata": {
        "id": "0pZ-agDjv_7S"
      },
      "execution_count": null,
      "outputs": []
    },
    {
      "cell_type": "code",
      "source": [
        "res = [[]]\n",
        "for i in lists:\n",
        "    res += [j+[i] for j in res]"
      ],
      "metadata": {
        "id": "uLTgIG5qPVEE"
      },
      "execution_count": null,
      "outputs": []
    },
    {
      "cell_type": "code",
      "source": [
        "res"
      ],
      "metadata": {
        "colab": {
          "base_uri": "https://localhost:8080/"
        },
        "id": "FCzy0IW0PcQS",
        "outputId": "5a9d9c6b-3a81-4830-c1d6-235088d0d665"
      },
      "execution_count": null,
      "outputs": [
        {
          "output_type": "execute_result",
          "data": {
            "text/plain": [
              "[[],\n",
              " [1],\n",
              " [2],\n",
              " [1, 2],\n",
              " [3],\n",
              " [1, 3],\n",
              " [2, 3],\n",
              " [1, 2, 3],\n",
              " [4],\n",
              " [1, 4],\n",
              " [2, 4],\n",
              " [1, 2, 4],\n",
              " [3, 4],\n",
              " [1, 3, 4],\n",
              " [2, 3, 4],\n",
              " [1, 2, 3, 4]]"
            ]
          },
          "metadata": {},
          "execution_count": 6
        }
      ]
    },
    {
      "cell_type": "markdown",
      "source": [
        "### Reversing string"
      ],
      "metadata": {
        "id": "8Lqkm8rLUqil"
      }
    },
    {
      "cell_type": "code",
      "source": [
        "strings = 'I am here. I not here.'.split()"
      ],
      "metadata": {
        "id": "exqAEq9DUweh"
      },
      "execution_count": null,
      "outputs": []
    },
    {
      "cell_type": "code",
      "source": [
        "strings"
      ],
      "metadata": {
        "colab": {
          "base_uri": "https://localhost:8080/"
        },
        "id": "ADzA3oMTVsGz",
        "outputId": "f1c0e3e2-5b22-4fb4-f9fc-d18dc4c400da"
      },
      "execution_count": null,
      "outputs": [
        {
          "output_type": "execute_result",
          "data": {
            "text/plain": [
              "['I', 'am', 'here.', 'I', 'not', 'here.']"
            ]
          },
          "metadata": {},
          "execution_count": 7
        }
      ]
    },
    {
      "cell_type": "code",
      "source": [
        "strings[::-1]"
      ],
      "metadata": {
        "colab": {
          "base_uri": "https://localhost:8080/"
        },
        "id": "HUsFvum9VEg-",
        "outputId": "811de940-ccab-4dd6-ae68-7218dc3bf828"
      },
      "execution_count": null,
      "outputs": [
        {
          "output_type": "execute_result",
          "data": {
            "text/plain": [
              "['here.', 'not', 'I', 'here.', 'am', 'I']"
            ]
          },
          "metadata": {},
          "execution_count": 9
        }
      ]
    },
    {
      "cell_type": "code",
      "source": [],
      "metadata": {
        "id": "TIJMkKvIVw1F"
      },
      "execution_count": null,
      "outputs": []
    }
  ]
}