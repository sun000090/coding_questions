{
 "cells": [
  {
   "cell_type": "markdown",
   "metadata": {},
   "source": [
    "### Find second largest array"
   ]
  },
  {
   "cell_type": "code",
   "execution_count": 125,
   "metadata": {},
   "outputs": [],
   "source": [
    "arr11 = [1,4,3,2]\n",
    "arr12 = [1,1,1,1]"
   ]
  },
  {
   "cell_type": "code",
   "execution_count": 172,
   "metadata": {},
   "outputs": [],
   "source": [
    "def find_max(numbers):\n",
    "    max_num = 0\n",
    "    for i in numbers:\n",
    "        if i > max_num:\n",
    "            max_num = i\n",
    "        else:\n",
    "            pass\n",
    "    return max_num"
   ]
  },
  {
   "cell_type": "code",
   "execution_count": 173,
   "metadata": {},
   "outputs": [],
   "source": [
    "def find_largest(arrays):\n",
    "    largest_num = find_max(arrays)\n",
    "    second_largest = []\n",
    "\n",
    "    for i in range(len(arrays)):\n",
    "        if arrays[i] < largest_num:\n",
    "            second_largest.append(arrays[i])\n",
    "        else:\n",
    "            pass\n",
    "    \n",
    "    if len(second_largest)>1:\n",
    "        return find_max(second_largest)\n",
    "    else:\n",
    "        return None"
   ]
  },
  {
   "cell_type": "code",
   "execution_count": 174,
   "metadata": {},
   "outputs": [],
   "source": [
    "arr1 = find_largest(arr11)\n",
    "arr2 = find_largest(arr12)"
   ]
  },
  {
   "cell_type": "code",
   "execution_count": 175,
   "metadata": {},
   "outputs": [
    {
     "data": {
      "text/plain": [
       "(3, None)"
      ]
     },
     "execution_count": 175,
     "metadata": {},
     "output_type": "execute_result"
    }
   ],
   "source": [
    "arr1, arr2"
   ]
  },
  {
   "cell_type": "markdown",
   "metadata": {},
   "source": [
    "### Output count of string in format"
   ]
  },
  {
   "cell_type": "code",
   "execution_count": 20,
   "metadata": {},
   "outputs": [],
   "source": [
    "string1 = 'abbccca'"
   ]
  },
  {
   "cell_type": "code",
   "execution_count": 21,
   "metadata": {},
   "outputs": [],
   "source": [
    "dict1 = {}\n",
    "\n",
    "for i in string1:\n",
    "    if i in dict1:\n",
    "        dict1[i] += 1\n",
    "    else:\n",
    "        dict1[i] = 1"
   ]
  },
  {
   "cell_type": "code",
   "execution_count": 22,
   "metadata": {},
   "outputs": [
    {
     "data": {
      "text/plain": [
       "{'a': 2, 'b': 2, 'c': 3}"
      ]
     },
     "execution_count": 22,
     "metadata": {},
     "output_type": "execute_result"
    }
   ],
   "source": [
    "dict1"
   ]
  },
  {
   "cell_type": "code",
   "execution_count": 176,
   "metadata": {},
   "outputs": [],
   "source": [
    "lists = []\n",
    "for i in range(len(dict1)):\n",
    "    lists.append(list(dict1.keys())[i])\n",
    "    lists.append(list(dict1.values())[i])"
   ]
  },
  {
   "cell_type": "code",
   "execution_count": 180,
   "metadata": {},
   "outputs": [],
   "source": [
    "lists = [str(i) for i in lists]"
   ]
  },
  {
   "cell_type": "code",
   "execution_count": 181,
   "metadata": {},
   "outputs": [
    {
     "data": {
      "text/plain": [
       "'a2b2c3'"
      ]
     },
     "execution_count": 181,
     "metadata": {},
     "output_type": "execute_result"
    }
   ],
   "source": [
    "''.join(lists)"
   ]
  },
  {
   "cell_type": "markdown",
   "metadata": {},
   "source": [
    "### Print the patterns using loop"
   ]
  },
  {
   "cell_type": "markdown",
   "metadata": {},
   "source": [
    "    5\n",
    "    45\n",
    "    345\n",
    "    2345\n",
    "    12345\n",
    "\n",
    "    12345\n",
    "    12345\n",
    "    12345\n",
    "    12345\n",
    "    12345\n"
   ]
  },
  {
   "cell_type": "code",
   "execution_count": 140,
   "metadata": {},
   "outputs": [
    {
     "name": "stdout",
     "output_type": "stream",
     "text": [
      "\n",
      "12345\n",
      "12345\n",
      "12345\n",
      "12345\n",
      "12345"
     ]
    }
   ],
   "source": [
    "for i in range(1,6):\n",
    "    print('\\r')\n",
    "    for j in range(1,6):\n",
    "        print(j,end='')"
   ]
  },
  {
   "cell_type": "code",
   "execution_count": 158,
   "metadata": {},
   "outputs": [
    {
     "name": "stdout",
     "output_type": "stream",
     "text": [
      "\n",
      "5\n",
      "45\n",
      "345\n",
      "2345\n",
      "12345"
     ]
    }
   ],
   "source": [
    "for i in range(5,0,-1):\n",
    "    print('\\r')\n",
    "    for j in range(i,6):\n",
    "        print(j,end='')"
   ]
  },
  {
   "cell_type": "code",
   "execution_count": null,
   "metadata": {},
   "outputs": [],
   "source": []
  }
 ],
 "metadata": {
  "kernelspec": {
   "display_name": "Python 3",
   "language": "python",
   "name": "python3"
  },
  "language_info": {
   "codemirror_mode": {
    "name": "ipython",
    "version": 3
   },
   "file_extension": ".py",
   "mimetype": "text/x-python",
   "name": "python",
   "nbconvert_exporter": "python",
   "pygments_lexer": "ipython3",
   "version": "3.10.0"
  }
 },
 "nbformat": 4,
 "nbformat_minor": 2
}
